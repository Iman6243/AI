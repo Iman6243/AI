{
  "nbformat": 4,
  "nbformat_minor": 0,
  "metadata": {
    "colab": {
      "provenance": [],
      "authorship_tag": "ABX9TyMF998uMAUdCoWoFJQp+HJS",
      "include_colab_link": true
    },
    "kernelspec": {
      "name": "python3",
      "display_name": "Python 3"
    },
    "language_info": {
      "name": "python"
    }
  },
  "cells": [
    {
      "cell_type": "markdown",
      "metadata": {
        "id": "view-in-github",
        "colab_type": "text"
      },
      "source": [
        "<a href=\"https://colab.research.google.com/github/Iman6243/AI/blob/main/Reyhane.ipynb\" target=\"_parent\"><img src=\"https://colab.research.google.com/assets/colab-badge.svg\" alt=\"Open In Colab\"/></a>"
      ]
    },
    {
      "cell_type": "code",
      "execution_count": null,
      "metadata": {
        "id": "dg6DmxQ5wgor"
      },
      "outputs": [],
      "source": [
        "def f(weight, capacities):\n",
        "    # اگر وزن صفر باشد، نیازی به ظرف نداریم\n",
        "    if weight == 0:\n",
        "        return 0\n",
        "\n",
        "    # اگر وزنی باقی مانده و هیچ ظرفی موجود نباشد، برگرداندن مقدار بی‌نهایت (علامت خطا)\n",
        "    if not capacities or weight < 0:\n",
        "        return float('inf')\n",
        "\n",
        "    # سعی می‌کنیم از هر ظرف استفاده کنیم و مقدار کمترین ظروف را پیدا کنیم\n",
        "    indx = float('inf')\n",
        "    for cap in capacities:\n",
        "        count = f(weight - cap, capacities)\n",
        "        if count != float('inf'):\n",
        "            indx = min(indx, 1 + count)\n",
        "\n",
        "    return indx\n",
        "\n",
        "# مثال استفاده\n",
        "\n",
        "weight =15\n",
        "capacities = [5, 3, 1]"
      ]
    },
    {
      "cell_type": "code",
      "source": [
        "try:\n",
        "  file = open('iman.txt', 'r')\n",
        "  contetnt=file.read()\n",
        "except FileNotFoundError as e:\n",
        "  print(f\"Erroe:{e}\")\n",
        "except IOError as io:\n",
        "  print(f\"Erroe:{io}\")\n",
        "else:\n",
        "  print(contetnt)\n",
        "finally:\n",
        "  print(\"File operation attemoend\")"
      ],
      "metadata": {
        "id": "-pjRA8WhwqyG"
      },
      "execution_count": null,
      "outputs": []
    },
    {
      "cell_type": "code",
      "source": [
        "lines1=['L1\\n','L2\\n','L3\\n','L4\\n']\n",
        "\n",
        "lines2=\"W1\\nL2\\nL3\\nW4\\n\"\n",
        "\n",
        "\n",
        "lines3=[]\n",
        "for i in range(10):\n",
        "    lines3.append(str(i)+\"\\n\")\n",
        "\n",
        "file = open('iman.txt', 'w')\n",
        "#file.write(lines3)\n",
        "file.writelines(lines3)\n",
        "file.close()"
      ],
      "metadata": {
        "id": "jA_8jAMXwvnG"
      },
      "execution_count": null,
      "outputs": []
    },
    {
      "cell_type": "code",
      "source": [
        "\n",
        "\n",
        "try:\n",
        "  num=int(input(\"------>\\n\"))\n",
        "  ans=10/num\n",
        "  print(f\"Answer is {ans}\")\n",
        "except ValueError as val:\n",
        "  print(f\"عدد وارد شده نامعتبر است. لطفا عدد صحیح وارد کنید\")\n",
        "except ZeroDivisionError as zer:\n",
        "  print(f\"تقسیم بر صفر غیر ماز است\")\n",
        "else:\n",
        "  print(\"همه چیز بدرستی انجام شد\")\n",
        "finally:\n",
        "  print(\"Good Bye\")\n"
      ],
      "metadata": {
        "id": "mybTVhOPwkd2"
      },
      "execution_count": null,
      "outputs": []
    },
    {
      "cell_type": "code",
      "source": [
        "def quick_sort(arr):\n",
        "  if len(arr) <= 1:\n",
        "    return arr\n",
        "  pivot = arr[len(arr) // 2]\n",
        "  left = [x for x in arr if x < pivot]\n",
        "  middle = [x for x in arr if x == pivot]\n",
        "  right = [x for x in arr if x > pivot]\n",
        "  return quick_sort(left) + middle + quick_sort(right)\n",
        "\n",
        "arr = [12, 11, 13,20,25,5, 6, 7]\n",
        "sorted_arr = quick_sort(arr)\n",
        "print(\"Sorted array:\", sorted_arr)"
      ],
      "metadata": {
        "id": "1kOUaKx2t94t",
        "outputId": "b327b241-1e0b-4d53-c121-e8df647ba8f4",
        "colab": {
          "base_uri": "https://localhost:8080/"
        }
      },
      "execution_count": 2,
      "outputs": [
        {
          "output_type": "stream",
          "name": "stdout",
          "text": [
            "Sorted array: [5, 6, 7, 11, 12, 13, 20, 25]\n"
          ]
        }
      ]
    },
    {
      "cell_type": "code",
      "source": [
        "\"\"\"\n",
        "  Merge sort is a very efficient, stable, and comparison-based sorting algorithm. It follows the \"divide and conquer\" paradigm, where the main idea is to divide the problem into smaller subproblems, solve each subproblem recursively, and then combine the results.\n",
        "\n",
        "  Here's a step-by-step explanation of merge sort:\n",
        "\n",
        "  Divide: If the list is more than one element, divide it into two roughly equal halves.\n",
        "\n",
        "  Conquer: Recursively sort both halves. If the list is only one element, consider it already sorted.\n",
        "\n",
        "  Combine: Merge the two sorted halves to produce a sorted list.\n",
        "\n",
        "  The merging step is crucial and involves comparing elements from both halves and arranging them in sorted order.\n",
        "\"\"\"\n",
        "\n",
        "\n",
        "def merge_sort(arr):\n",
        "    if len(arr) > 1:\n",
        "        mid = len(arr) // 2\n",
        "        left_half = arr[:mid]\n",
        "        right_half = arr[mid:]\n",
        "\n",
        "        merge_sort(left_half)\n",
        "        merge_sort(right_half)\n",
        "\n",
        "        i = j = k = 0\n",
        "\n",
        "        while i < len(left_half) and j < len(right_half):\n",
        "            if left_half[i] < right_half[j]:\n",
        "                arr[k] = left_half[i]\n",
        "                i += 1\n",
        "            else:\n",
        "                arr[k] = right_half[j]\n",
        "                j += 1\n",
        "            k += 1\n",
        "\n",
        "        while i < len(left_half):\n",
        "            arr[k] = left_half[i]\n",
        "            i += 1\n",
        "            k += 1\n",
        "\n",
        "        while j < len(right_half):\n",
        "            arr[k] = right_half[j]\n",
        "            j += 1\n",
        "            k += 1\n",
        "\n",
        "    return arr\n",
        "\n",
        "# Example usage:\n",
        "arr = [38, 27, 43, 3, 9, 82, 10]\n",
        "sorted_arr = merge_sort(arr)\n",
        "print(\"Sorted array:\", sorted_arr)\n"
      ],
      "metadata": {
        "id": "nML6YJkFuXb9",
        "outputId": "951a9311-86f2-4282-d40c-26c0a7fe64bc",
        "colab": {
          "base_uri": "https://localhost:8080/"
        }
      },
      "execution_count": null,
      "outputs": [
        {
          "output_type": "stream",
          "name": "stdout",
          "text": [
            "Sorted array: [3, 9, 10, 27, 38, 43, 82]\n"
          ]
        }
      ]
    },
    {
      "cell_type": "code",
      "source": [
        "def insertion_sort(arr):\n",
        "  for i in range(1, len(arr)):\n",
        "    key = arr[i]\n",
        "    j = i - 1\n",
        "    while j >= 0 and key < arr[j]:\n",
        "      arr[j + 1] = arr[j]\n",
        "      j -= 1\n",
        "    arr[j + 1] = key\n",
        "\n",
        "\n",
        "arr = [12, 11, 13, 5, 6]\n",
        "insertion_sort(arr)\n",
        "print(\"Sorted array:\", arr)"
      ],
      "metadata": {
        "id": "UgCKA1BDvcsk",
        "outputId": "b070286a-6f9e-4d43-e862-771badcd5967",
        "colab": {
          "base_uri": "https://localhost:8080/"
        },
        "collapsed": true
      },
      "execution_count": null,
      "outputs": [
        {
          "output_type": "stream",
          "name": "stdout",
          "text": [
            "Sorted array: [5, 6, 11, 12, 13]\n"
          ]
        }
      ]
    },
    {
      "cell_type": "code",
      "source": [
        "def count_ways(n, k, target, current_pos=0):\n",
        "    if k == 0:\n",
        "        return 1 if current_pos == target else 0\n",
        "    if current_pos < 0 or current_pos >= n:\n",
        "        return 0\n",
        "    return count_ways(n, k - 1, target, current_pos + 1) + count_ways(n, k - 1, target, current_pos - 1)\n",
        "\n",
        "n = 64   # تعداد کل خانه‌ها\n",
        "k = 8    # حداکثر تعداد حرکت‌ها\n",
        "target = 6  # خانه‌ای که مهراسب باید به آن برسد\n",
        "\n",
        "print(count_ways(n, k, target))"
      ],
      "metadata": {
        "id": "FhLEus_fte1w",
        "outputId": "0ef9d2dd-284a-406d-b26d-fd2d5f1eb779",
        "colab": {
          "base_uri": "https://localhost:8080/"
        }
      },
      "execution_count": 5,
      "outputs": [
        {
          "output_type": "stream",
          "name": "stdout",
          "text": [
            "7\n"
          ]
        }
      ]
    },
    {
      "cell_type": "code",
      "source": [
        "def count_ways(n, k, target):\n",
        "    dp = [[0 for _ in range(k + 1)] for _ in range(n)]\n",
        "    dp[0][0] = 1  # شروع از خانه 0 با 0 حرکت\n",
        "\n",
        "    for moves in range(1, k + 1):\n",
        "        for pos in range(n):\n",
        "            if pos > 0:\n",
        "                dp[pos][moves] += dp[pos - 1][moves - 1]\n",
        "            if pos < n - 1:\n",
        "                dp[pos][moves] += dp[pos + 1][moves - 1]\n",
        "\n",
        "    return dp[target][k]\n",
        "\n",
        "n = 10   # تعداد کل خانه‌ها\n",
        "k = 5    # حداکثر تعداد حرکت‌ها\n",
        "target = 5  # خانه‌ای که مهراسب باید به آن برسد\n",
        "\n",
        "print(count_ways(n, k, target))"
      ],
      "metadata": {
        "id": "ot2IdTpXtpBf"
      },
      "execution_count": null,
      "outputs": []
    }
  ]
}