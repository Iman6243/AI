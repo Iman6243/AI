{
  "nbformat": 4,
  "nbformat_minor": 0,
  "metadata": {
    "colab": {
      "provenance": [],
      "authorship_tag": "ABX9TyOtAqfcplJ9XWlUzY/OJnnY",
      "include_colab_link": true
    },
    "kernelspec": {
      "name": "python3",
      "display_name": "Python 3"
    },
    "language_info": {
      "name": "python"
    }
  },
  "cells": [
    {
      "cell_type": "markdown",
      "metadata": {
        "id": "view-in-github",
        "colab_type": "text"
      },
      "source": [
        "<a href=\"https://colab.research.google.com/github/Iman6243/AI/blob/main/Reyhane.ipynb\" target=\"_parent\"><img src=\"https://colab.research.google.com/assets/colab-badge.svg\" alt=\"Open In Colab\"/></a>"
      ]
    },
    {
      "cell_type": "code",
      "execution_count": null,
      "metadata": {
        "id": "dg6DmxQ5wgor"
      },
      "outputs": [],
      "source": [
        "def f(weight, capacities):\n",
        "    # اگر وزن صفر باشد، نیازی به ظرف نداریم\n",
        "    if weight == 0:\n",
        "        return 0\n",
        "\n",
        "    # اگر وزنی باقی مانده و هیچ ظرفی موجود نباشد، برگرداندن مقدار بی‌نهایت (علامت خطا)\n",
        "    if not capacities or weight < 0:\n",
        "        return float('inf')\n",
        "\n",
        "    # سعی می‌کنیم از هر ظرف استفاده کنیم و مقدار کمترین ظروف را پیدا کنیم\n",
        "    indx = float('inf')\n",
        "    for cap in capacities:\n",
        "        count = f(weight - cap, capacities)\n",
        "        if count != float('inf'):\n",
        "            indx = min(indx, 1 + count)\n",
        "\n",
        "    return indx\n",
        "\n",
        "# مثال استفاده\n",
        "\n",
        "weight =15\n",
        "capacities = [5, 3, 1]"
      ]
    },
    {
      "cell_type": "code",
      "source": [
        "try:\n",
        "  file = open('iman.txt', 'r')\n",
        "  contetnt=file.read()\n",
        "except FileNotFoundError as e:\n",
        "  print(f\"Erroe:{e}\")\n",
        "except IOError as io:\n",
        "  print(f\"Erroe:{io}\")\n",
        "else:\n",
        "  print(contetnt)\n",
        "finally:\n",
        "  print(\"File operation attemoend\")"
      ],
      "metadata": {
        "id": "-pjRA8WhwqyG"
      },
      "execution_count": null,
      "outputs": []
    },
    {
      "cell_type": "code",
      "source": [
        "lines1=['L1\\n','L2\\n','L3\\n','L4\\n']\n",
        "\n",
        "lines2=\"W1\\nL2\\nL3\\nW4\\n\"\n",
        "\n",
        "\n",
        "lines3=[]\n",
        "for i in range(10):\n",
        "    lines3.append(str(i)+\"\\n\")\n",
        "\n",
        "file = open('iman.txt', 'w')\n",
        "#file.write(lines3)\n",
        "file.writelines(lines3)\n",
        "file.close()"
      ],
      "metadata": {
        "id": "jA_8jAMXwvnG"
      },
      "execution_count": null,
      "outputs": []
    },
    {
      "cell_type": "code",
      "source": [
        "\n",
        "\n",
        "try:\n",
        "  num=int(input(\"------>\\n\"))\n",
        "  ans=10/num\n",
        "  print(f\"Answer is {ans}\")\n",
        "except ValueError as val:\n",
        "  print(f\"عدد وارد شده نامعتبر است. لطفا عدد صحیح وارد کنید\")\n",
        "except ZeroDivisionError as zer:\n",
        "  print(f\"تقسیم بر صفر غیر ماز است\")\n",
        "else:\n",
        "  print(\"همه چیز بدرستی انجام شد\")\n",
        "finally:\n",
        "  print(\"Good Bye\")\n"
      ],
      "metadata": {
        "id": "mybTVhOPwkd2"
      },
      "execution_count": null,
      "outputs": []
    }
  ]
}