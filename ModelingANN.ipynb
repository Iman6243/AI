{
  "nbformat": 4,
  "nbformat_minor": 0,
  "metadata": {
    "colab": {
      "provenance": [],
      "authorship_tag": "ABX9TyPIFubJMenhSnbr9JuCH0mq",
      "include_colab_link": true
    },
    "kernelspec": {
      "name": "python3",
      "display_name": "Python 3"
    },
    "language_info": {
      "name": "python"
    }
  },
  "cells": [
    {
      "cell_type": "markdown",
      "metadata": {
        "id": "view-in-github",
        "colab_type": "text"
      },
      "source": [
        "<a href=\"https://colab.research.google.com/github/Iman6243/AI/blob/main/ModelingANN.ipynb\" target=\"_parent\"><img src=\"https://colab.research.google.com/assets/colab-badge.svg\" alt=\"Open In Colab\"/></a>"
      ]
    },
    {
      "cell_type": "markdown",
      "source": [
        "## Packages"
      ],
      "metadata": {
        "id": "PVjJi4qS3W3e"
      }
    },
    {
      "cell_type": "code",
      "source": [
        "import numpy as np\n",
        "import pandas as pd\n",
        "import matplotlib.pyplot as plt\n",
        "from sklearn.model_selection import train_test_split, KFold\n",
        "from sklearn.tree import DecisionTreeRegressor\n",
        "from sklearn.linear_model import LinearRegression\n",
        "from sklearn.metrics import mean_squared_error, r2_score\n",
        "from sklearn.preprocessing import MinMaxScaler\n",
        "from keras.models import Sequential\n",
        "from keras.layers import Dense, LSTM\n",
        "from keras.optimizers import Adam\n",
        "from scipy.signal import butter, filtfilt, find_peaks\n",
        "from scipy.stats import pearsonr\n",
        "import os"
      ],
      "metadata": {
        "id": "9GGizbRV249B"
      },
      "execution_count": null,
      "outputs": []
    },
    {
      "cell_type": "markdown",
      "source": [
        "## class SignalProcessor"
      ],
      "metadata": {
        "id": "vJSiWadg3dQ4"
      }
    },
    {
      "cell_type": "code",
      "source": [
        "class SignalProcessor:\n",
        "    def __init__(self, fs, lowcut, highcut, order=4):\n",
        "        self.fs = fs\n",
        "        self.lowcut = lowcut\n",
        "        self.highcut = highcut\n",
        "        self.order = order\n",
        "\n",
        "    def bandpass_filter(self, dataframe):\n",
        "        nyquist = 0.5 * self.fs\n",
        "        low = self.lowcut / nyquist\n",
        "        high = self.highcut / nyquist\n",
        "        b, a = butter(self.order, [low, high], btype='band')\n",
        "        filtered_dataframe = pd.DataFrame(index=dataframe.index)\n",
        "        for column in dataframe.columns:\n",
        "            filtered_dataframe[column] = filtfilt(b, a, dataframe[column])\n",
        "        return filtered_dataframe"
      ],
      "metadata": {
        "id": "nzmSTP1X28XI"
      },
      "execution_count": null,
      "outputs": []
    },
    {
      "cell_type": "markdown",
      "source": [
        "## class DataVisualizer"
      ],
      "metadata": {
        "id": "1AsuFLRn3iPQ"
      }
    },
    {
      "cell_type": "code",
      "source": [
        "class DataVisualizer:\n",
        "    @staticmethod\n",
        "    def display_signal(dataframe, column, start_index=None, end_index=None, label=None):\n",
        "        if start_index is None:\n",
        "            start_index = dataframe.index[0]\n",
        "        if end_index is None:\n",
        "            end_index = dataframe.index[-1]\n",
        "        if label is None:\n",
        "            label = 'Signal'\n",
        "        subset_df = dataframe.iloc[start_index:end_index]\n",
        "        plt.figure(figsize=(12, 6))\n",
        "        plt.plot(subset_df.index, subset_df[column], label=label)\n",
        "        plt.xlabel('Time')\n",
        "        plt.ylabel('Value')\n",
        "        plt.title('Signal in the Specified Range')\n",
        "        plt.legend()\n",
        "        plt.grid(True)\n",
        "        plt.show()\n",
        "        @staticmethod\n",
        "    def show_max_peak_signal(dataframe, column, start_index=None, end_index=None):\n",
        "        selected_rows = dataframe.iloc[start_index:end_index]\n",
        "        signal = selected_rows[column]\n",
        "        peaks, properties = find_peaks(signal, height=0)\n",
        "        if len(peaks) > 0:\n",
        "            max_peak_idx = peaks[np.argmax(properties['peak_heights'])]\n",
        "            max_peak_value = signal.iloc[max_peak_idx]\n",
        "            min_peak_idx = peaks[np.argmin(properties['peak_heights'])]\n",
        "            min_peak_value = signal.iloc[min_peak_idx]\n",
        "            plt.figure(figsize=(12, 6))\n",
        "            plt.plot(selected_rows.index, signal, label='Signal')\n",
        "            plt.plot(selected_rows.index[peaks], signal.iloc[peaks], \"x\", label='Peaks')\n",
        "            plt.plot(selected_rows.index[max_peak_idx], max_peak_value, \"ro\", label='Largest Peak')\n",
        "            plt.plot(selected_rows.index[min_peak_idx], min_peak_value, \"go\", label='Smallest Peak')\n",
        "            plt.xlabel('Time')\n",
        "            plt.ylabel('Value')\n",
        "            plt.title('Peaks in the Specified Range')\n",
        "            plt.legend()\n",
        "            plt.grid(True)\n",
        "            plt.show()\n",
        "            return max_peak_idx, max_peak_value, min_peak_idx, min_peak_value\n",
        "        else:\n",
        "            print(\"No peaks found in the specified range\")\n",
        "            return None, None, None, None"
      ],
      "metadata": {
        "id": "UsMUEcVA3BGP"
      },
      "execution_count": null,
      "outputs": []
    },
    {
      "cell_type": "markdown",
      "source": [
        "## class ModelTrainer"
      ],
      "metadata": {
        "id": "GfU1XK4c3mBA"
      }
    },
    {
      "cell_type": "code",
      "execution_count": null,
      "metadata": {
        "id": "M-jIFP-d1z0Z"
      },
      "outputs": [],
      "source": [
        "class ModelTrainer:\n",
        "    def __init__(self):\n",
        "        self.scaler_X = MinMaxScaler()\n",
        "        self.scaler_y = MinMaxScaler()\n",
        "\n",
        "    def train_decision_tree(self, X_train, y_train, X_test, y_test):\n",
        "        model = DecisionTreeRegressor()\n",
        "        model.fit(X_train, y_train)\n",
        "        y_pred = model.predict(X_test)\n",
        "        mse = mean_squared_error(y_test, y_pred)\n",
        "        r2 = r2_score(y_test, y_pred)\n",
        "        print(f'Decision Tree - Mean Squared Error: {mse}, R^2 Score: {r2}')\n",
        "        return model\n",
        "\n",
        "    def train_ann(self, X_train, y_train, X_test, y_test):\n",
        "        model = Sequential()\n",
        "        model.add(Dense(64, input_dim=X_train.shape[1], activation='relu'))\n",
        "        model.add(Dense(32, activation='relu'))\n",
        "        model.add(Dense(1, activation='linear'))\n",
        "        model.compile(optimizer=Adam(learning_rate=0.001), loss='mean_squared_error')\n",
        "        model.fit(X_train, y_train, epochs=100, batch_size=32, verbose=1)\n",
        "        y_pred = model.predict(X_test)\n",
        "        mse = np.mean((y_test - y_pred) ** 2)\n",
        "        print(f'ANN - Mean Squared Error: {mse}')\n",
        "        return model\n",
        "\n",
        "    def train_lstm(self, X_train, y_train, X_test, y_test, time_step=10):\n",
        "        X_train_lstm, y_train_lstm = self.create_dataset(X_train, y_train, time_step)\n",
        "        X_test_lstm, y_test_lstm = self.create_dataset(X_test, y_test, time_step)\n",
        "        X_train_lstm = X_train_lstm.reshape(X_train_lstm.shape[0], X_train_lstm.shape[1], X_train_lstm.shape[2])\n",
        "        X_test_lstm = X_test_lstm.reshape(X_test_lstm.shape[0], X_test_lstm.shape[1], X_test_lstm.shape[2])\n",
        "        model = Sequential()\n",
        "        model.add(LSTM(50, return_sequences=True, input_shape=(X_train_lstm.shape[1], X_train_lstm.shape[2])))\n",
        "        model.add(LSTM(50, return_sequences=False))\n",
        "        model.add(Dense(1))\n",
        "        model.compile(optimizer=Adam(learning_rate=0.001), loss='mean_squared_error')\n",
        "        model.fit(X_train_lstm, y_train_lstm, epochs=100, batch_size=32, verbose=0)\n",
        "        y_pred = model.predict(X_test_lstm)\n",
        "        mse = np.mean((y_test_lstm - y_pred) ** 2)\n",
        "        print(f'LSTM - Mean Squared Error: {mse}')\n",
        "        return model\n",
        "\n",
        "    @staticmethod\n",
        "    def create_dataset(X, y, time_step=1):\n",
        "        Xs, ys = [], []\n",
        "        for i in range(len(X) - time_step):\n",
        "            Xs.append(X[i:(i + time_step)])\n",
        "            ys.append(y[i + time_step])\n",
        "        return np.array(Xs), np.array(ys)"
      ]
    },
    {
      "cell_type": "markdown",
      "source": [
        "## class DataHandler"
      ],
      "metadata": {
        "id": "EBe7nFqz3p5J"
      }
    },
    {
      "cell_type": "code",
      "source": [
        "class DataHandler:\n",
        "    @staticmethod\n",
        "    def load_csv_files(directory):\n",
        "        filenames = [file for file in os.listdir(directory) if file.endswith('.csv')]\n",
        "        df_list = [pd.read_csv(file) for file in filenames]\n",
        "        for i, df in enumerate(df_list):\n",
        "            print(f\"Shape of dataframe {i+1}- {filenames[i]} : {df.shape}\")\n",
        "        return df_list, filenames\n",
        "\n",
        "    @staticmethod\n",
        "    def copy_dataset(dataframe, start_index=None, end_index=None):\n",
        "        if start_index is None:\n",
        "            start_index = dataframe.index[0]\n",
        "        if end_index is None:\n",
        "            end_index = dataframe.index[-1]\n",
        "        selected_rows = dataframe.iloc[start_index:end_index]\n",
        "        copydf = selected_rows.copy()\n",
        "        copydf.reset_index(drop=True, inplace=True)\n",
        "        return copydf"
      ],
      "metadata": {
        "id": "YYdq3uj43Raj"
      },
      "execution_count": null,
      "outputs": []
    },
    {
      "cell_type": "markdown",
      "source": [
        "## Main"
      ],
      "metadata": {
        "id": "9S359mm93tU_"
      }
    },
    {
      "cell_type": "code",
      "source": [
        "# Example usage\n",
        "if __name__ == \"__main__\":\n",
        "    # Load data\n",
        "    data_handler = DataHandler()\n",
        "    df_list, filenames = data_handler.load_csv_files('.')\n",
        "    Motion = df_list[0]\n",
        "    SigAcc = df_list[1]\n",
        "    SigGyr = df_list[2]\n",
        "\n",
        "    # Visualize data\n",
        "    visualizer = DataVisualizer()\n",
        "    visualizer.display_signal(Motion, 'COPaZ1', 0, 2000, filenames[0])\n",
        "\n",
        "    # Process signals\n",
        "    signal_processor = SignalProcessor(fs=100, lowcut=0.1, highcut=10)\n",
        "    filtered_motion = signal_processor.bandpass_filter(Motion)\n",
        "\n",
        "    # Train models\n",
        "    model_trainer = ModelTrainer()\n",
        "    X_train, X_test, y_train, y_test = train_test_split(filtered_motion.iloc[:, :-1], filtered_motion.iloc[:, -1], test_size=0.2, random_state=42)\n",
        "    model_dt = model_trainer.train_decision_tree(X_train, y_train, X_test, y_test)\n",
        "    model_ann = model_trainer.train_ann(X_train, y_train, X_test, y_test)\n",
        "    model_lstm = model_trainer.train_lstm(X_train, y_train, X_test, y_test)"
      ],
      "metadata": {
        "id": "exmH2Lkb2zI5"
      },
      "execution_count": null,
      "outputs": []
    }
  ]
}