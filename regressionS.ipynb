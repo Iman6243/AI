{
  "nbformat": 4,
  "nbformat_minor": 0,
  "metadata": {
    "colab": {
      "provenance": [],
      "include_colab_link": true
    },
    "kernelspec": {
      "name": "python3",
      "display_name": "Python 3"
    },
    "language_info": {
      "name": "python"
    }
  },
  "cells": [
    {
      "cell_type": "markdown",
      "metadata": {
        "id": "view-in-github",
        "colab_type": "text"
      },
      "source": [
        "<a href=\"https://colab.research.google.com/github/Iman6243/AI/blob/main/regressionS.ipynb\" target=\"_parent\"><img src=\"https://colab.research.google.com/assets/colab-badge.svg\" alt=\"Open In Colab\"/></a>"
      ]
    },
    {
      "cell_type": "markdown",
      "source": [
        "## Clear All Variables"
      ],
      "metadata": {
        "id": "BrejIeNP3guQ"
      }
    },
    {
      "cell_type": "code",
      "source": [
        "%reset -f\n",
        "#del my_variable"
      ],
      "metadata": {
        "id": "lw8vpPw40yHV"
      },
      "execution_count": 239,
      "outputs": []
    },
    {
      "cell_type": "markdown",
      "source": [
        "## Runnig Packages"
      ],
      "metadata": {
        "id": "dmvAv1c_gNPZ"
      }
    },
    {
      "cell_type": "code",
      "source": [
        "import pandas as pd\n",
        "import matplotlib.pyplot as plt\n",
        "import seaborn as sns\n",
        "import numpy as np\n",
        "from scipy.stats import norm\n",
        "from numpy.linalg import inv\n",
        "from sklearn.linear_model import LinearRegression\n",
        "from numpy import array\n",
        "from scipy.stats import pearsonr"
      ],
      "metadata": {
        "id": "1nPmrwjYfX-5"
      },
      "execution_count": 240,
      "outputs": []
    },
    {
      "cell_type": "markdown",
      "source": [
        "## Read Data"
      ],
      "metadata": {
        "id": "fjYqtW4VgW1J"
      }
    },
    {
      "cell_type": "code",
      "source": [
        "data=pd.read_csv(\"Data_Injury_Prevention.csv\")\n",
        "data.head(2)"
      ],
      "metadata": {
        "colab": {
          "base_uri": "https://localhost:8080/",
          "height": 0
        },
        "id": "WwbyD8FZkPFV",
        "outputId": "91ff0780-979d-4330-f617-2f5c9a1caa99"
      },
      "execution_count": 241,
      "outputs": [
        {
          "output_type": "execute_result",
          "data": {
            "text/plain": [
              "      ID   Age  Height  Mass  Team  Position  Years of Football Experience  \\\n",
              "0  146.0  19.0   173.0  67.6   1.0       3.0                           1.0   \n",
              "1  155.0  22.0   179.5  71.0   1.0       3.0                           1.0   \n",
              "\n",
              "   Previous Injuries (1=yes, 0=no)  Number of Injuries  \\\n",
              "0                              1.0                 6.0   \n",
              "1                              1.0                 2.0   \n",
              "\n",
              "   Ankle Injuries (1= yes, 0=no)  ...  Importance Injury Prevention   \\\n",
              "0                            1.0  ...                            2.0   \n",
              "1                            0.0  ...                            1.0   \n",
              "\n",
              "   Knowledgeability (1=yes, 2=no)  \\\n",
              "0                             1.0   \n",
              "1                             1.0   \n",
              "\n",
              "   Prevention Measure Stretching (1=yes, 0=no)  \\\n",
              "0                                          1.0   \n",
              "1                                          1.0   \n",
              "\n",
              "   Prevention Measure Warm Up (1=yes, 0=no)  \\\n",
              "0                                       0.0   \n",
              "1                                       1.0   \n",
              "\n",
              "   Prevention Measure Specific Strength Exercises (1=yes, 0=no)  \\\n",
              "0                                                1.0              \n",
              "1                                                0.0              \n",
              "\n",
              "   Prevention Measure Bracing (1=yes, 0=no)  \\\n",
              "0                                       0.0   \n",
              "1                                       0.0   \n",
              "\n",
              "   Prevention Measure Taping (1=yes, 0=no)  \\\n",
              "0                                      0.0   \n",
              "1                                      0.0   \n",
              "\n",
              "   Prevention Measure Shoe Insoles (1=yes, 0=no)  \\\n",
              "0                                            0.0   \n",
              "1                                            0.0   \n",
              "\n",
              "   Prevention Measure Face Masks (1=yes, 0=no)  \\\n",
              "0                                          0.0   \n",
              "1                                          0.0   \n",
              "\n",
              "   Prevention Measure Medical Corset (1=yes, 0=no)  \n",
              "0                                              0.0  \n",
              "1                                              0.0  \n",
              "\n",
              "[2 rows x 41 columns]"
            ],
            "text/html": [
              "\n",
              "  <div id=\"df-bd9e9e3e-c769-49fc-afad-7045983b6081\" class=\"colab-df-container\">\n",
              "    <div>\n",
              "<style scoped>\n",
              "    .dataframe tbody tr th:only-of-type {\n",
              "        vertical-align: middle;\n",
              "    }\n",
              "\n",
              "    .dataframe tbody tr th {\n",
              "        vertical-align: top;\n",
              "    }\n",
              "\n",
              "    .dataframe thead th {\n",
              "        text-align: right;\n",
              "    }\n",
              "</style>\n",
              "<table border=\"1\" class=\"dataframe\">\n",
              "  <thead>\n",
              "    <tr style=\"text-align: right;\">\n",
              "      <th></th>\n",
              "      <th>ID</th>\n",
              "      <th>Age</th>\n",
              "      <th>Height</th>\n",
              "      <th>Mass</th>\n",
              "      <th>Team</th>\n",
              "      <th>Position</th>\n",
              "      <th>Years of Football Experience</th>\n",
              "      <th>Previous Injuries (1=yes, 0=no)</th>\n",
              "      <th>Number of Injuries</th>\n",
              "      <th>Ankle Injuries (1= yes, 0=no)</th>\n",
              "      <th>...</th>\n",
              "      <th>Importance Injury Prevention</th>\n",
              "      <th>Knowledgeability (1=yes, 2=no)</th>\n",
              "      <th>Prevention Measure Stretching (1=yes, 0=no)</th>\n",
              "      <th>Prevention Measure Warm Up (1=yes, 0=no)</th>\n",
              "      <th>Prevention Measure Specific Strength Exercises (1=yes, 0=no)</th>\n",
              "      <th>Prevention Measure Bracing (1=yes, 0=no)</th>\n",
              "      <th>Prevention Measure Taping (1=yes, 0=no)</th>\n",
              "      <th>Prevention Measure Shoe Insoles (1=yes, 0=no)</th>\n",
              "      <th>Prevention Measure Face Masks (1=yes, 0=no)</th>\n",
              "      <th>Prevention Measure Medical Corset (1=yes, 0=no)</th>\n",
              "    </tr>\n",
              "  </thead>\n",
              "  <tbody>\n",
              "    <tr>\n",
              "      <th>0</th>\n",
              "      <td>146.0</td>\n",
              "      <td>19.0</td>\n",
              "      <td>173.0</td>\n",
              "      <td>67.6</td>\n",
              "      <td>1.0</td>\n",
              "      <td>3.0</td>\n",
              "      <td>1.0</td>\n",
              "      <td>1.0</td>\n",
              "      <td>6.0</td>\n",
              "      <td>1.0</td>\n",
              "      <td>...</td>\n",
              "      <td>2.0</td>\n",
              "      <td>1.0</td>\n",
              "      <td>1.0</td>\n",
              "      <td>0.0</td>\n",
              "      <td>1.0</td>\n",
              "      <td>0.0</td>\n",
              "      <td>0.0</td>\n",
              "      <td>0.0</td>\n",
              "      <td>0.0</td>\n",
              "      <td>0.0</td>\n",
              "    </tr>\n",
              "    <tr>\n",
              "      <th>1</th>\n",
              "      <td>155.0</td>\n",
              "      <td>22.0</td>\n",
              "      <td>179.5</td>\n",
              "      <td>71.0</td>\n",
              "      <td>1.0</td>\n",
              "      <td>3.0</td>\n",
              "      <td>1.0</td>\n",
              "      <td>1.0</td>\n",
              "      <td>2.0</td>\n",
              "      <td>0.0</td>\n",
              "      <td>...</td>\n",
              "      <td>1.0</td>\n",
              "      <td>1.0</td>\n",
              "      <td>1.0</td>\n",
              "      <td>1.0</td>\n",
              "      <td>0.0</td>\n",
              "      <td>0.0</td>\n",
              "      <td>0.0</td>\n",
              "      <td>0.0</td>\n",
              "      <td>0.0</td>\n",
              "      <td>0.0</td>\n",
              "    </tr>\n",
              "  </tbody>\n",
              "</table>\n",
              "<p>2 rows × 41 columns</p>\n",
              "</div>\n",
              "    <div class=\"colab-df-buttons\">\n",
              "\n",
              "  <div class=\"colab-df-container\">\n",
              "    <button class=\"colab-df-convert\" onclick=\"convertToInteractive('df-bd9e9e3e-c769-49fc-afad-7045983b6081')\"\n",
              "            title=\"Convert this dataframe to an interactive table.\"\n",
              "            style=\"display:none;\">\n",
              "\n",
              "  <svg xmlns=\"http://www.w3.org/2000/svg\" height=\"24px\" viewBox=\"0 -960 960 960\">\n",
              "    <path d=\"M120-120v-720h720v720H120Zm60-500h600v-160H180v160Zm220 220h160v-160H400v160Zm0 220h160v-160H400v160ZM180-400h160v-160H180v160Zm440 0h160v-160H620v160ZM180-180h160v-160H180v160Zm440 0h160v-160H620v160Z\"/>\n",
              "  </svg>\n",
              "    </button>\n",
              "\n",
              "  <style>\n",
              "    .colab-df-container {\n",
              "      display:flex;\n",
              "      gap: 12px;\n",
              "    }\n",
              "\n",
              "    .colab-df-convert {\n",
              "      background-color: #E8F0FE;\n",
              "      border: none;\n",
              "      border-radius: 50%;\n",
              "      cursor: pointer;\n",
              "      display: none;\n",
              "      fill: #1967D2;\n",
              "      height: 32px;\n",
              "      padding: 0 0 0 0;\n",
              "      width: 32px;\n",
              "    }\n",
              "\n",
              "    .colab-df-convert:hover {\n",
              "      background-color: #E2EBFA;\n",
              "      box-shadow: 0px 1px 2px rgba(60, 64, 67, 0.3), 0px 1px 3px 1px rgba(60, 64, 67, 0.15);\n",
              "      fill: #174EA6;\n",
              "    }\n",
              "\n",
              "    .colab-df-buttons div {\n",
              "      margin-bottom: 4px;\n",
              "    }\n",
              "\n",
              "    [theme=dark] .colab-df-convert {\n",
              "      background-color: #3B4455;\n",
              "      fill: #D2E3FC;\n",
              "    }\n",
              "\n",
              "    [theme=dark] .colab-df-convert:hover {\n",
              "      background-color: #434B5C;\n",
              "      box-shadow: 0px 1px 3px 1px rgba(0, 0, 0, 0.15);\n",
              "      filter: drop-shadow(0px 1px 2px rgba(0, 0, 0, 0.3));\n",
              "      fill: #FFFFFF;\n",
              "    }\n",
              "  </style>\n",
              "\n",
              "    <script>\n",
              "      const buttonEl =\n",
              "        document.querySelector('#df-bd9e9e3e-c769-49fc-afad-7045983b6081 button.colab-df-convert');\n",
              "      buttonEl.style.display =\n",
              "        google.colab.kernel.accessAllowed ? 'block' : 'none';\n",
              "\n",
              "      async function convertToInteractive(key) {\n",
              "        const element = document.querySelector('#df-bd9e9e3e-c769-49fc-afad-7045983b6081');\n",
              "        const dataTable =\n",
              "          await google.colab.kernel.invokeFunction('convertToInteractive',\n",
              "                                                    [key], {});\n",
              "        if (!dataTable) return;\n",
              "\n",
              "        const docLinkHtml = 'Like what you see? Visit the ' +\n",
              "          '<a target=\"_blank\" href=https://colab.research.google.com/notebooks/data_table.ipynb>data table notebook</a>'\n",
              "          + ' to learn more about interactive tables.';\n",
              "        element.innerHTML = '';\n",
              "        dataTable['output_type'] = 'display_data';\n",
              "        await google.colab.output.renderOutput(dataTable, element);\n",
              "        const docLink = document.createElement('div');\n",
              "        docLink.innerHTML = docLinkHtml;\n",
              "        element.appendChild(docLink);\n",
              "      }\n",
              "    </script>\n",
              "  </div>\n",
              "\n",
              "\n",
              "<div id=\"df-16f8519b-00af-4f87-950c-b582d866c7b8\">\n",
              "  <button class=\"colab-df-quickchart\" onclick=\"quickchart('df-16f8519b-00af-4f87-950c-b582d866c7b8')\"\n",
              "            title=\"Suggest charts\"\n",
              "            style=\"display:none;\">\n",
              "\n",
              "<svg xmlns=\"http://www.w3.org/2000/svg\" height=\"24px\"viewBox=\"0 0 24 24\"\n",
              "     width=\"24px\">\n",
              "    <g>\n",
              "        <path d=\"M19 3H5c-1.1 0-2 .9-2 2v14c0 1.1.9 2 2 2h14c1.1 0 2-.9 2-2V5c0-1.1-.9-2-2-2zM9 17H7v-7h2v7zm4 0h-2V7h2v10zm4 0h-2v-4h2v4z\"/>\n",
              "    </g>\n",
              "</svg>\n",
              "  </button>\n",
              "\n",
              "<style>\n",
              "  .colab-df-quickchart {\n",
              "      --bg-color: #E8F0FE;\n",
              "      --fill-color: #1967D2;\n",
              "      --hover-bg-color: #E2EBFA;\n",
              "      --hover-fill-color: #174EA6;\n",
              "      --disabled-fill-color: #AAA;\n",
              "      --disabled-bg-color: #DDD;\n",
              "  }\n",
              "\n",
              "  [theme=dark] .colab-df-quickchart {\n",
              "      --bg-color: #3B4455;\n",
              "      --fill-color: #D2E3FC;\n",
              "      --hover-bg-color: #434B5C;\n",
              "      --hover-fill-color: #FFFFFF;\n",
              "      --disabled-bg-color: #3B4455;\n",
              "      --disabled-fill-color: #666;\n",
              "  }\n",
              "\n",
              "  .colab-df-quickchart {\n",
              "    background-color: var(--bg-color);\n",
              "    border: none;\n",
              "    border-radius: 50%;\n",
              "    cursor: pointer;\n",
              "    display: none;\n",
              "    fill: var(--fill-color);\n",
              "    height: 32px;\n",
              "    padding: 0;\n",
              "    width: 32px;\n",
              "  }\n",
              "\n",
              "  .colab-df-quickchart:hover {\n",
              "    background-color: var(--hover-bg-color);\n",
              "    box-shadow: 0 1px 2px rgba(60, 64, 67, 0.3), 0 1px 3px 1px rgba(60, 64, 67, 0.15);\n",
              "    fill: var(--button-hover-fill-color);\n",
              "  }\n",
              "\n",
              "  .colab-df-quickchart-complete:disabled,\n",
              "  .colab-df-quickchart-complete:disabled:hover {\n",
              "    background-color: var(--disabled-bg-color);\n",
              "    fill: var(--disabled-fill-color);\n",
              "    box-shadow: none;\n",
              "  }\n",
              "\n",
              "  .colab-df-spinner {\n",
              "    border: 2px solid var(--fill-color);\n",
              "    border-color: transparent;\n",
              "    border-bottom-color: var(--fill-color);\n",
              "    animation:\n",
              "      spin 1s steps(1) infinite;\n",
              "  }\n",
              "\n",
              "  @keyframes spin {\n",
              "    0% {\n",
              "      border-color: transparent;\n",
              "      border-bottom-color: var(--fill-color);\n",
              "      border-left-color: var(--fill-color);\n",
              "    }\n",
              "    20% {\n",
              "      border-color: transparent;\n",
              "      border-left-color: var(--fill-color);\n",
              "      border-top-color: var(--fill-color);\n",
              "    }\n",
              "    30% {\n",
              "      border-color: transparent;\n",
              "      border-left-color: var(--fill-color);\n",
              "      border-top-color: var(--fill-color);\n",
              "      border-right-color: var(--fill-color);\n",
              "    }\n",
              "    40% {\n",
              "      border-color: transparent;\n",
              "      border-right-color: var(--fill-color);\n",
              "      border-top-color: var(--fill-color);\n",
              "    }\n",
              "    60% {\n",
              "      border-color: transparent;\n",
              "      border-right-color: var(--fill-color);\n",
              "    }\n",
              "    80% {\n",
              "      border-color: transparent;\n",
              "      border-right-color: var(--fill-color);\n",
              "      border-bottom-color: var(--fill-color);\n",
              "    }\n",
              "    90% {\n",
              "      border-color: transparent;\n",
              "      border-bottom-color: var(--fill-color);\n",
              "    }\n",
              "  }\n",
              "</style>\n",
              "\n",
              "  <script>\n",
              "    async function quickchart(key) {\n",
              "      const quickchartButtonEl =\n",
              "        document.querySelector('#' + key + ' button');\n",
              "      quickchartButtonEl.disabled = true;  // To prevent multiple clicks.\n",
              "      quickchartButtonEl.classList.add('colab-df-spinner');\n",
              "      try {\n",
              "        const charts = await google.colab.kernel.invokeFunction(\n",
              "            'suggestCharts', [key], {});\n",
              "      } catch (error) {\n",
              "        console.error('Error during call to suggestCharts:', error);\n",
              "      }\n",
              "      quickchartButtonEl.classList.remove('colab-df-spinner');\n",
              "      quickchartButtonEl.classList.add('colab-df-quickchart-complete');\n",
              "    }\n",
              "    (() => {\n",
              "      let quickchartButtonEl =\n",
              "        document.querySelector('#df-16f8519b-00af-4f87-950c-b582d866c7b8 button');\n",
              "      quickchartButtonEl.style.display =\n",
              "        google.colab.kernel.accessAllowed ? 'block' : 'none';\n",
              "    })();\n",
              "  </script>\n",
              "</div>\n",
              "    </div>\n",
              "  </div>\n"
            ],
            "application/vnd.google.colaboratory.intrinsic+json": {
              "type": "dataframe",
              "variable_name": "data"
            }
          },
          "metadata": {},
          "execution_count": 241
        }
      ]
    },
    {
      "cell_type": "code",
      "source": [
        "data.tail(2)"
      ],
      "metadata": {
        "colab": {
          "base_uri": "https://localhost:8080/",
          "height": 0
        },
        "id": "ePg3IPgOlM-r",
        "outputId": "3823ab80-fb57-4fcd-9803-31da2250d399"
      },
      "execution_count": 242,
      "outputs": [
        {
          "output_type": "execute_result",
          "data": {
            "text/plain": [
              "       ID   Age  Height  Mass  Team  Position  Years of Football Experience  \\\n",
              "137  36.0  13.0   153.0  44.3   6.0       2.0                           0.0   \n",
              "138  37.0  13.0   161.0  48.6   6.0       3.0                           0.0   \n",
              "\n",
              "     Previous Injuries (1=yes, 0=no)  Number of Injuries  \\\n",
              "137                              1.0                 1.0   \n",
              "138                              0.0                 0.0   \n",
              "\n",
              "     Ankle Injuries (1= yes, 0=no)  ...  Importance Injury Prevention   \\\n",
              "137                            0.0  ...                            1.0   \n",
              "138                            0.0  ...                            1.0   \n",
              "\n",
              "     Knowledgeability (1=yes, 2=no)  \\\n",
              "137                             1.0   \n",
              "138                             1.0   \n",
              "\n",
              "     Prevention Measure Stretching (1=yes, 0=no)  \\\n",
              "137                                          1.0   \n",
              "138                                          1.0   \n",
              "\n",
              "     Prevention Measure Warm Up (1=yes, 0=no)  \\\n",
              "137                                       0.0   \n",
              "138                                       1.0   \n",
              "\n",
              "     Prevention Measure Specific Strength Exercises (1=yes, 0=no)  \\\n",
              "137                                                0.0              \n",
              "138                                                0.0              \n",
              "\n",
              "     Prevention Measure Bracing (1=yes, 0=no)  \\\n",
              "137                                       0.0   \n",
              "138                                       0.0   \n",
              "\n",
              "     Prevention Measure Taping (1=yes, 0=no)  \\\n",
              "137                                      1.0   \n",
              "138                                      0.0   \n",
              "\n",
              "     Prevention Measure Shoe Insoles (1=yes, 0=no)  \\\n",
              "137                                            1.0   \n",
              "138                                            0.0   \n",
              "\n",
              "     Prevention Measure Face Masks (1=yes, 0=no)  \\\n",
              "137                                          0.0   \n",
              "138                                          0.0   \n",
              "\n",
              "     Prevention Measure Medical Corset (1=yes, 0=no)  \n",
              "137                                              0.0  \n",
              "138                                              0.0  \n",
              "\n",
              "[2 rows x 41 columns]"
            ],
            "text/html": [
              "\n",
              "  <div id=\"df-27523fdc-20a3-4f6d-85b6-516b3aa024d3\" class=\"colab-df-container\">\n",
              "    <div>\n",
              "<style scoped>\n",
              "    .dataframe tbody tr th:only-of-type {\n",
              "        vertical-align: middle;\n",
              "    }\n",
              "\n",
              "    .dataframe tbody tr th {\n",
              "        vertical-align: top;\n",
              "    }\n",
              "\n",
              "    .dataframe thead th {\n",
              "        text-align: right;\n",
              "    }\n",
              "</style>\n",
              "<table border=\"1\" class=\"dataframe\">\n",
              "  <thead>\n",
              "    <tr style=\"text-align: right;\">\n",
              "      <th></th>\n",
              "      <th>ID</th>\n",
              "      <th>Age</th>\n",
              "      <th>Height</th>\n",
              "      <th>Mass</th>\n",
              "      <th>Team</th>\n",
              "      <th>Position</th>\n",
              "      <th>Years of Football Experience</th>\n",
              "      <th>Previous Injuries (1=yes, 0=no)</th>\n",
              "      <th>Number of Injuries</th>\n",
              "      <th>Ankle Injuries (1= yes, 0=no)</th>\n",
              "      <th>...</th>\n",
              "      <th>Importance Injury Prevention</th>\n",
              "      <th>Knowledgeability (1=yes, 2=no)</th>\n",
              "      <th>Prevention Measure Stretching (1=yes, 0=no)</th>\n",
              "      <th>Prevention Measure Warm Up (1=yes, 0=no)</th>\n",
              "      <th>Prevention Measure Specific Strength Exercises (1=yes, 0=no)</th>\n",
              "      <th>Prevention Measure Bracing (1=yes, 0=no)</th>\n",
              "      <th>Prevention Measure Taping (1=yes, 0=no)</th>\n",
              "      <th>Prevention Measure Shoe Insoles (1=yes, 0=no)</th>\n",
              "      <th>Prevention Measure Face Masks (1=yes, 0=no)</th>\n",
              "      <th>Prevention Measure Medical Corset (1=yes, 0=no)</th>\n",
              "    </tr>\n",
              "  </thead>\n",
              "  <tbody>\n",
              "    <tr>\n",
              "      <th>137</th>\n",
              "      <td>36.0</td>\n",
              "      <td>13.0</td>\n",
              "      <td>153.0</td>\n",
              "      <td>44.3</td>\n",
              "      <td>6.0</td>\n",
              "      <td>2.0</td>\n",
              "      <td>0.0</td>\n",
              "      <td>1.0</td>\n",
              "      <td>1.0</td>\n",
              "      <td>0.0</td>\n",
              "      <td>...</td>\n",
              "      <td>1.0</td>\n",
              "      <td>1.0</td>\n",
              "      <td>1.0</td>\n",
              "      <td>0.0</td>\n",
              "      <td>0.0</td>\n",
              "      <td>0.0</td>\n",
              "      <td>1.0</td>\n",
              "      <td>1.0</td>\n",
              "      <td>0.0</td>\n",
              "      <td>0.0</td>\n",
              "    </tr>\n",
              "    <tr>\n",
              "      <th>138</th>\n",
              "      <td>37.0</td>\n",
              "      <td>13.0</td>\n",
              "      <td>161.0</td>\n",
              "      <td>48.6</td>\n",
              "      <td>6.0</td>\n",
              "      <td>3.0</td>\n",
              "      <td>0.0</td>\n",
              "      <td>0.0</td>\n",
              "      <td>0.0</td>\n",
              "      <td>0.0</td>\n",
              "      <td>...</td>\n",
              "      <td>1.0</td>\n",
              "      <td>1.0</td>\n",
              "      <td>1.0</td>\n",
              "      <td>1.0</td>\n",
              "      <td>0.0</td>\n",
              "      <td>0.0</td>\n",
              "      <td>0.0</td>\n",
              "      <td>0.0</td>\n",
              "      <td>0.0</td>\n",
              "      <td>0.0</td>\n",
              "    </tr>\n",
              "  </tbody>\n",
              "</table>\n",
              "<p>2 rows × 41 columns</p>\n",
              "</div>\n",
              "    <div class=\"colab-df-buttons\">\n",
              "\n",
              "  <div class=\"colab-df-container\">\n",
              "    <button class=\"colab-df-convert\" onclick=\"convertToInteractive('df-27523fdc-20a3-4f6d-85b6-516b3aa024d3')\"\n",
              "            title=\"Convert this dataframe to an interactive table.\"\n",
              "            style=\"display:none;\">\n",
              "\n",
              "  <svg xmlns=\"http://www.w3.org/2000/svg\" height=\"24px\" viewBox=\"0 -960 960 960\">\n",
              "    <path d=\"M120-120v-720h720v720H120Zm60-500h600v-160H180v160Zm220 220h160v-160H400v160Zm0 220h160v-160H400v160ZM180-400h160v-160H180v160Zm440 0h160v-160H620v160ZM180-180h160v-160H180v160Zm440 0h160v-160H620v160Z\"/>\n",
              "  </svg>\n",
              "    </button>\n",
              "\n",
              "  <style>\n",
              "    .colab-df-container {\n",
              "      display:flex;\n",
              "      gap: 12px;\n",
              "    }\n",
              "\n",
              "    .colab-df-convert {\n",
              "      background-color: #E8F0FE;\n",
              "      border: none;\n",
              "      border-radius: 50%;\n",
              "      cursor: pointer;\n",
              "      display: none;\n",
              "      fill: #1967D2;\n",
              "      height: 32px;\n",
              "      padding: 0 0 0 0;\n",
              "      width: 32px;\n",
              "    }\n",
              "\n",
              "    .colab-df-convert:hover {\n",
              "      background-color: #E2EBFA;\n",
              "      box-shadow: 0px 1px 2px rgba(60, 64, 67, 0.3), 0px 1px 3px 1px rgba(60, 64, 67, 0.15);\n",
              "      fill: #174EA6;\n",
              "    }\n",
              "\n",
              "    .colab-df-buttons div {\n",
              "      margin-bottom: 4px;\n",
              "    }\n",
              "\n",
              "    [theme=dark] .colab-df-convert {\n",
              "      background-color: #3B4455;\n",
              "      fill: #D2E3FC;\n",
              "    }\n",
              "\n",
              "    [theme=dark] .colab-df-convert:hover {\n",
              "      background-color: #434B5C;\n",
              "      box-shadow: 0px 1px 3px 1px rgba(0, 0, 0, 0.15);\n",
              "      filter: drop-shadow(0px 1px 2px rgba(0, 0, 0, 0.3));\n",
              "      fill: #FFFFFF;\n",
              "    }\n",
              "  </style>\n",
              "\n",
              "    <script>\n",
              "      const buttonEl =\n",
              "        document.querySelector('#df-27523fdc-20a3-4f6d-85b6-516b3aa024d3 button.colab-df-convert');\n",
              "      buttonEl.style.display =\n",
              "        google.colab.kernel.accessAllowed ? 'block' : 'none';\n",
              "\n",
              "      async function convertToInteractive(key) {\n",
              "        const element = document.querySelector('#df-27523fdc-20a3-4f6d-85b6-516b3aa024d3');\n",
              "        const dataTable =\n",
              "          await google.colab.kernel.invokeFunction('convertToInteractive',\n",
              "                                                    [key], {});\n",
              "        if (!dataTable) return;\n",
              "\n",
              "        const docLinkHtml = 'Like what you see? Visit the ' +\n",
              "          '<a target=\"_blank\" href=https://colab.research.google.com/notebooks/data_table.ipynb>data table notebook</a>'\n",
              "          + ' to learn more about interactive tables.';\n",
              "        element.innerHTML = '';\n",
              "        dataTable['output_type'] = 'display_data';\n",
              "        await google.colab.output.renderOutput(dataTable, element);\n",
              "        const docLink = document.createElement('div');\n",
              "        docLink.innerHTML = docLinkHtml;\n",
              "        element.appendChild(docLink);\n",
              "      }\n",
              "    </script>\n",
              "  </div>\n",
              "\n",
              "\n",
              "<div id=\"df-6056df1b-30b1-4236-946e-deb293f563df\">\n",
              "  <button class=\"colab-df-quickchart\" onclick=\"quickchart('df-6056df1b-30b1-4236-946e-deb293f563df')\"\n",
              "            title=\"Suggest charts\"\n",
              "            style=\"display:none;\">\n",
              "\n",
              "<svg xmlns=\"http://www.w3.org/2000/svg\" height=\"24px\"viewBox=\"0 0 24 24\"\n",
              "     width=\"24px\">\n",
              "    <g>\n",
              "        <path d=\"M19 3H5c-1.1 0-2 .9-2 2v14c0 1.1.9 2 2 2h14c1.1 0 2-.9 2-2V5c0-1.1-.9-2-2-2zM9 17H7v-7h2v7zm4 0h-2V7h2v10zm4 0h-2v-4h2v4z\"/>\n",
              "    </g>\n",
              "</svg>\n",
              "  </button>\n",
              "\n",
              "<style>\n",
              "  .colab-df-quickchart {\n",
              "      --bg-color: #E8F0FE;\n",
              "      --fill-color: #1967D2;\n",
              "      --hover-bg-color: #E2EBFA;\n",
              "      --hover-fill-color: #174EA6;\n",
              "      --disabled-fill-color: #AAA;\n",
              "      --disabled-bg-color: #DDD;\n",
              "  }\n",
              "\n",
              "  [theme=dark] .colab-df-quickchart {\n",
              "      --bg-color: #3B4455;\n",
              "      --fill-color: #D2E3FC;\n",
              "      --hover-bg-color: #434B5C;\n",
              "      --hover-fill-color: #FFFFFF;\n",
              "      --disabled-bg-color: #3B4455;\n",
              "      --disabled-fill-color: #666;\n",
              "  }\n",
              "\n",
              "  .colab-df-quickchart {\n",
              "    background-color: var(--bg-color);\n",
              "    border: none;\n",
              "    border-radius: 50%;\n",
              "    cursor: pointer;\n",
              "    display: none;\n",
              "    fill: var(--fill-color);\n",
              "    height: 32px;\n",
              "    padding: 0;\n",
              "    width: 32px;\n",
              "  }\n",
              "\n",
              "  .colab-df-quickchart:hover {\n",
              "    background-color: var(--hover-bg-color);\n",
              "    box-shadow: 0 1px 2px rgba(60, 64, 67, 0.3), 0 1px 3px 1px rgba(60, 64, 67, 0.15);\n",
              "    fill: var(--button-hover-fill-color);\n",
              "  }\n",
              "\n",
              "  .colab-df-quickchart-complete:disabled,\n",
              "  .colab-df-quickchart-complete:disabled:hover {\n",
              "    background-color: var(--disabled-bg-color);\n",
              "    fill: var(--disabled-fill-color);\n",
              "    box-shadow: none;\n",
              "  }\n",
              "\n",
              "  .colab-df-spinner {\n",
              "    border: 2px solid var(--fill-color);\n",
              "    border-color: transparent;\n",
              "    border-bottom-color: var(--fill-color);\n",
              "    animation:\n",
              "      spin 1s steps(1) infinite;\n",
              "  }\n",
              "\n",
              "  @keyframes spin {\n",
              "    0% {\n",
              "      border-color: transparent;\n",
              "      border-bottom-color: var(--fill-color);\n",
              "      border-left-color: var(--fill-color);\n",
              "    }\n",
              "    20% {\n",
              "      border-color: transparent;\n",
              "      border-left-color: var(--fill-color);\n",
              "      border-top-color: var(--fill-color);\n",
              "    }\n",
              "    30% {\n",
              "      border-color: transparent;\n",
              "      border-left-color: var(--fill-color);\n",
              "      border-top-color: var(--fill-color);\n",
              "      border-right-color: var(--fill-color);\n",
              "    }\n",
              "    40% {\n",
              "      border-color: transparent;\n",
              "      border-right-color: var(--fill-color);\n",
              "      border-top-color: var(--fill-color);\n",
              "    }\n",
              "    60% {\n",
              "      border-color: transparent;\n",
              "      border-right-color: var(--fill-color);\n",
              "    }\n",
              "    80% {\n",
              "      border-color: transparent;\n",
              "      border-right-color: var(--fill-color);\n",
              "      border-bottom-color: var(--fill-color);\n",
              "    }\n",
              "    90% {\n",
              "      border-color: transparent;\n",
              "      border-bottom-color: var(--fill-color);\n",
              "    }\n",
              "  }\n",
              "</style>\n",
              "\n",
              "  <script>\n",
              "    async function quickchart(key) {\n",
              "      const quickchartButtonEl =\n",
              "        document.querySelector('#' + key + ' button');\n",
              "      quickchartButtonEl.disabled = true;  // To prevent multiple clicks.\n",
              "      quickchartButtonEl.classList.add('colab-df-spinner');\n",
              "      try {\n",
              "        const charts = await google.colab.kernel.invokeFunction(\n",
              "            'suggestCharts', [key], {});\n",
              "      } catch (error) {\n",
              "        console.error('Error during call to suggestCharts:', error);\n",
              "      }\n",
              "      quickchartButtonEl.classList.remove('colab-df-spinner');\n",
              "      quickchartButtonEl.classList.add('colab-df-quickchart-complete');\n",
              "    }\n",
              "    (() => {\n",
              "      let quickchartButtonEl =\n",
              "        document.querySelector('#df-6056df1b-30b1-4236-946e-deb293f563df button');\n",
              "      quickchartButtonEl.style.display =\n",
              "        google.colab.kernel.accessAllowed ? 'block' : 'none';\n",
              "    })();\n",
              "  </script>\n",
              "</div>\n",
              "    </div>\n",
              "  </div>\n"
            ],
            "application/vnd.google.colaboratory.intrinsic+json": {
              "type": "dataframe"
            }
          },
          "metadata": {},
          "execution_count": 242
        }
      ]
    },
    {
      "cell_type": "markdown",
      "source": [
        "## Drawing Data Plot"
      ],
      "metadata": {
        "id": "WsQ0ibnehntX"
      }
    },
    {
      "cell_type": "code",
      "source": [
        "plt.figure(figsize=(10,10))\n",
        "data['Knee Injuries (1=yes, 0=no)'].value_counts()"
      ],
      "metadata": {
        "colab": {
          "base_uri": "https://localhost:8080/",
          "height": 0
        },
        "id": "9odlZRyWlSSs",
        "outputId": "1a12c11b-faa7-4544-bdcf-302adf8f85d8"
      },
      "execution_count": 243,
      "outputs": [
        {
          "output_type": "execute_result",
          "data": {
            "text/plain": [
              "Knee Injuries (1=yes, 0=no)\n",
              "0.0    79\n",
              "1.0    60\n",
              "Name: count, dtype: int64"
            ],
            "text/html": [
              "<div>\n",
              "<style scoped>\n",
              "    .dataframe tbody tr th:only-of-type {\n",
              "        vertical-align: middle;\n",
              "    }\n",
              "\n",
              "    .dataframe tbody tr th {\n",
              "        vertical-align: top;\n",
              "    }\n",
              "\n",
              "    .dataframe thead th {\n",
              "        text-align: right;\n",
              "    }\n",
              "</style>\n",
              "<table border=\"1\" class=\"dataframe\">\n",
              "  <thead>\n",
              "    <tr style=\"text-align: right;\">\n",
              "      <th></th>\n",
              "      <th>count</th>\n",
              "    </tr>\n",
              "    <tr>\n",
              "      <th>Knee Injuries (1=yes, 0=no)</th>\n",
              "      <th></th>\n",
              "    </tr>\n",
              "  </thead>\n",
              "  <tbody>\n",
              "    <tr>\n",
              "      <th>0.0</th>\n",
              "      <td>79</td>\n",
              "    </tr>\n",
              "    <tr>\n",
              "      <th>1.0</th>\n",
              "      <td>60</td>\n",
              "    </tr>\n",
              "  </tbody>\n",
              "</table>\n",
              "</div><br><label><b>dtype:</b> int64</label>"
            ]
          },
          "metadata": {},
          "execution_count": 243
        },
        {
          "output_type": "display_data",
          "data": {
            "text/plain": [
              "<Figure size 1000x1000 with 0 Axes>"
            ]
          },
          "metadata": {}
        }
      ]
    },
    {
      "cell_type": "code",
      "source": [
        "data['Knee Injuries (1=yes, 0=no)'].value_counts().plot(kind='pie')\n",
        "plt.show()\n",
        "data['Knee Injuries (1=yes, 0=no)'].value_counts().plot(kind='bar')\n",
        "plt.show()"
      ],
      "metadata": {
        "colab": {
          "base_uri": "https://localhost:8080/",
          "height": 0
        },
        "id": "XAfUL6WCl2WI",
        "outputId": "b8b673c6-f697-4edf-8122-b9f8cd301a0b"
      },
      "execution_count": 244,
      "outputs": [
        {
          "output_type": "display_data",
          "data": {
            "text/plain": [
              "<Figure size 640x480 with 1 Axes>"
            ],
            "image/png": "[encoded data removed]"
          },
          "metadata": {}
        },
        {
          "output_type": "display_data",
          "data": {
            "text/plain": [
              "<Figure size 640x480 with 1 Axes>"
            ],
            "image/png": "[encoded data removed]"
          },
          "metadata": {}
        }
      ]
    },
    {
      "cell_type": "code",
      "source": [
        "mean_Mass=data.groupby(\"Team\")[\"Mass\"].mean().reset_index()\n",
        "mean_Mass1=pd.DataFrame(mean_Mass)\n",
        "sns.barplot(data=mean_Mass1, x=\"Team\", y=\"Mass\")"
      ],
      "metadata": {
        "colab": {
          "base_uri": "https://localhost:8080/",
          "height": 0
        },
        "id": "KGijWlUSuMJV",
        "outputId": "97ccf649-9387-41c3-de36-f6addc81eb76"
      },
      "execution_count": 245,
      "outputs": [
        {
          "output_type": "execute_result",
          "data": {
            "text/plain": [
              "<Axes: xlabel='Team', ylabel='Mass'>"
            ]
          },
          "metadata": {},
          "execution_count": 245
        },
        {
          "output_type": "display_data",
          "data": {
            "text/plain": [
              "<Figure size 640x480 with 1 Axes>"
            ],
            "image/png": "[encoded data removed]"
          },
          "metadata": {}
        }
      ]
    },
    {
      "cell_type": "code",
      "source": [
        "mean_std_Mass = data.groupby(\"Team\")[\"Mass\"].agg(Mean=\"mean\", Std=\"std\").reset_index()\n",
        "mean_std_Mass1=pd.DataFrame(mean_std_Mass)\n",
        "sns.barplot(data=mean_std_Mass1, x=\"Team\", y=\"Mean\")\n",
        "for index, row in mean_std_Mass1.iterrows():\n",
        "    plt.errorbar(x=index, y=row[\"Mean\"], yerr=row[\"Std\"], fmt='none', capsize=5, color=\"green\")"
      ],
      "metadata": {
        "colab": {
          "base_uri": "https://localhost:8080/",
          "height": 0
        },
        "id": "M9OUTaL6xRR6",
        "outputId": "8ca79065-8d6a-423a-99c2-882dd432521d"
      },
      "execution_count": 246,
      "outputs": [
        {
          "output_type": "display_data",
          "data": {
            "text/plain": [
              "<Figure size 640x480 with 1 Axes>"
            ],
            "image/png": "[encoded data removed]"
          },
          "metadata": {}
        }
      ]
    },
    {
      "cell_type": "code",
      "source": [
        "plt.scatter(data.Age, data.Height)\n",
        "plt.xlabel(\"Age\")\n",
        "plt.ylabel(\"Height\", fontsize=10)\n",
        "plt.show()"
      ],
      "metadata": {
        "colab": {
          "base_uri": "https://localhost:8080/",
          "height": 0
        },
        "id": "QSoWAbW-7fUz",
        "outputId": "1b593869-1f05-4496-dfb0-2a2978cfec22"
      },
      "execution_count": 247,
      "outputs": [
        {
          "output_type": "display_data",
          "data": {
            "text/plain": [
              "<Figure size 640x480 with 1 Axes>"
            ],
            "image/png": "[encoded data removed]"
          },
          "metadata": {}
        }
      ]
    },
    {
      "cell_type": "code",
      "source": [
        "sns.scatterplot(x=\"Age\", y=\"Height\", hue=\"Team\", data=data)"
      ],
      "metadata": {
        "colab": {
          "base_uri": "https://localhost:8080/",
          "height": 0
        },
        "id": "6deZ4UQd9pWC",
        "outputId": "cd137bdd-ba2a-4412-9018-f060fbd89652"
      },
      "execution_count": 248,
      "outputs": [
        {
          "output_type": "execute_result",
          "data": {
            "text/plain": [
              "<Axes: xlabel='Age', ylabel='Height'>"
            ]
          },
          "metadata": {},
          "execution_count": 248
        },
        {
          "output_type": "display_data",
          "data": {
            "text/plain": [
              "<Figure size 640x480 with 1 Axes>"
            ],
            "image/png": "[encoded data removed]"
          },
          "metadata": {}
        }
      ]
    },
    {
      "cell_type": "code",
      "source": [
        "x1=np.random.normal(50,4,30)\n",
        "y1=x1+np.random.normal(0,5.30)\n",
        "y2=100-x1+np.random.normal(0,5.30)\n",
        "y3=100-x1+np.random.normal(0,5.30)\n",
        "y4=100-x1+np.random.normal(0,5.30)\n",
        "y5=100-x1+np.random.normal(0,5.30)\n",
        "y6=100-x1+np.random.normal(0,5.30)\n",
        "plt.scatter(x1, y1, color=\"gray\", marker='^')\n",
        "plt.scatter(x1, y2, color=\"pink\", marker='+')\n",
        "plt.scatter(x1, y3, color=\"red\", marker='*')\n",
        "plt.scatter(x1, y4, color=\"green\", marker='^')\n",
        "plt.scatter(x1, y5, color=\"blue\")\n",
        "plt.scatter(x1, y6, color=\"yellow\")"
      ],
      "metadata": {
        "colab": {
          "base_uri": "https://localhost:8080/",
          "height": 0
        },
        "id": "3TvLBy7_-EMC",
        "outputId": "7c37d0fd-acc7-4040-cae3-0df115f0c12b"
      },
      "execution_count": 249,
      "outputs": [
        {
          "output_type": "execute_result",
          "data": {
            "text/plain": [
              "<matplotlib.collections.PathCollection at 0x7f7c4514f3d0>"
            ]
          },
          "metadata": {},
          "execution_count": 249
        },
        {
          "output_type": "display_data",
          "data": {
            "text/plain": [
              "<Figure size 640x480 with 1 Axes>"
            ],
            "image/png": "[encoded data removed]"
          },
          "metadata": {}
        }
      ]
    },
    {
      "cell_type": "code",
      "source": [
        "#scipy.stats import norm\n",
        "plt.hist(data.Height)\n",
        "mu, std = norm.fit(data.Height)\n",
        "plt.hist(data.Height, bins=10, density=True)\n",
        "plt.show()\n",
        "plt.hist(data.Height, color = \"pink\", edgecolor = 'gray')\n",
        "plt.show()\n",
        "xmin, xmax = plt.xlim()\n",
        "x = np.linspace(xmin, xmax, 100)\n",
        "p = norm.pdf(x, mu, std)\n",
        "plt.plot(x, p, 'k', linewidth=5, label='Normal Fit')\n",
        "plt.show()"
      ],
      "metadata": {
        "colab": {
          "base_uri": "https://localhost:8080/",
          "height": 0
        },
        "id": "PFqJqd9MFvnx",
        "outputId": "5195bb9b-373a-489b-d1a2-7507807ba3c1"
      },
      "execution_count": 250,
      "outputs": [
        {
          "output_type": "display_data",
          "data": {
            "text/plain": [
              "<Figure size 640x480 with 1 Axes>"
            ],
            "image/png": "[encoded data removed]"
          },
          "metadata": {}
        },
        {
          "output_type": "display_data",
          "data": {
            "text/plain": [
              "<Figure size 640x480 with 1 Axes>"
            ],
            "image/png": "[encoded data removed]"
          },
          "metadata": {}
        },
        {
          "output_type": "display_data",
          "data": {
            "text/plain": [
              "<Figure size 640x480 with 1 Axes>"
            ],
            "image/png": "[encoded data removed]"
          },
          "metadata": {}
        }
      ]
    },
    {
      "cell_type": "markdown",
      "source": [
        "# Regression"
      ],
      "metadata": {
        "id": "Z_SItIRqlD5J"
      }
    },
    {
      "cell_type": "markdown",
      "source": [
        "## Reneming Columns"
      ],
      "metadata": {
        "id": "EGURyiuwmj5g"
      }
    },
    {
      "cell_type": "code",
      "source": [
        "data=data.rename(columns={'Risk Factor Fatigue (1=yes, 0=no)': 'Fatigue', 'Previous Injuries (1=yes, 0=no)': 'Previous Injuries', 'Ankle Injuries (1= yes, 0=no)': 'Ankle Injuries'})\n",
        "data.head(2)"
      ],
      "metadata": {
        "colab": {
          "base_uri": "https://localhost:8080/",
          "height": 0
        },
        "id": "avMXK56PT8jx",
        "outputId": "8b5c2ec5-719f-48b8-843d-df4dbf397258"
      },
      "execution_count": 251,
      "outputs": [
        {
          "output_type": "execute_result",
          "data": {
            "text/plain": [
              "      ID   Age  Height  Mass  Team  Position  Years of Football Experience  \\\n",
              "0  146.0  19.0   173.0  67.6   1.0       3.0                           1.0   \n",
              "1  155.0  22.0   179.5  71.0   1.0       3.0                           1.0   \n",
              "\n",
              "   Previous Injuries  Number of Injuries  Ankle Injuries  ...  \\\n",
              "0                1.0                 6.0             1.0  ...   \n",
              "1                1.0                 2.0             0.0  ...   \n",
              "\n",
              "   Importance Injury Prevention   Knowledgeability (1=yes, 2=no)  \\\n",
              "0                            2.0                             1.0   \n",
              "1                            1.0                             1.0   \n",
              "\n",
              "   Prevention Measure Stretching (1=yes, 0=no)  \\\n",
              "0                                          1.0   \n",
              "1                                          1.0   \n",
              "\n",
              "   Prevention Measure Warm Up (1=yes, 0=no)  \\\n",
              "0                                       0.0   \n",
              "1                                       1.0   \n",
              "\n",
              "   Prevention Measure Specific Strength Exercises (1=yes, 0=no)  \\\n",
              "0                                                1.0              \n",
              "1                                                0.0              \n",
              "\n",
              "   Prevention Measure Bracing (1=yes, 0=no)  \\\n",
              "0                                       0.0   \n",
              "1                                       0.0   \n",
              "\n",
              "   Prevention Measure Taping (1=yes, 0=no)  \\\n",
              "0                                      0.0   \n",
              "1                                      0.0   \n",
              "\n",
              "   Prevention Measure Shoe Insoles (1=yes, 0=no)  \\\n",
              "0                                            0.0   \n",
              "1                                            0.0   \n",
              "\n",
              "   Prevention Measure Face Masks (1=yes, 0=no)  \\\n",
              "0                                          0.0   \n",
              "1                                          0.0   \n",
              "\n",
              "   Prevention Measure Medical Corset (1=yes, 0=no)  \n",
              "0                                              0.0  \n",
              "1                                              0.0  \n",
              "\n",
              "[2 rows x 41 columns]"
            ],
            "text/html": [
              "\n",
              "  <div id=\"df-1dd4ed55-b46d-4c7b-ab19-204bff2f6d56\" class=\"colab-df-container\">\n",
              "    <div>\n",
              "<style scoped>\n",
              "    .dataframe tbody tr th:only-of-type {\n",
              "        vertical-align: middle;\n",
              "    }\n",
              "\n",
              "    .dataframe tbody tr th {\n",
              "        vertical-align: top;\n",
              "    }\n",
              "\n",
              "    .dataframe thead th {\n",
              "        text-align: right;\n",
              "    }\n",
              "</style>\n",
              "<table border=\"1\" class=\"dataframe\">\n",
              "  <thead>\n",
              "    <tr style=\"text-align: right;\">\n",
              "      <th></th>\n",
              "      <th>ID</th>\n",
              "      <th>Age</th>\n",
              "      <th>Height</th>\n",
              "      <th>Mass</th>\n",
              "      <th>Team</th>\n",
              "      <th>Position</th>\n",
              "      <th>Years of Football Experience</th>\n",
              "      <th>Previous Injuries</th>\n",
              "      <th>Number of Injuries</th>\n",
              "      <th>Ankle Injuries</th>\n",
              "      <th>...</th>\n",
              "      <th>Importance Injury Prevention</th>\n",
              "      <th>Knowledgeability (1=yes, 2=no)</th>\n",
              "      <th>Prevention Measure Stretching (1=yes, 0=no)</th>\n",
              "      <th>Prevention Measure Warm Up (1=yes, 0=no)</th>\n",
              "      <th>Prevention Measure Specific Strength Exercises (1=yes, 0=no)</th>\n",
              "      <th>Prevention Measure Bracing (1=yes, 0=no)</th>\n",
              "      <th>Prevention Measure Taping (1=yes, 0=no)</th>\n",
              "      <th>Prevention Measure Shoe Insoles (1=yes, 0=no)</th>\n",
              "      <th>Prevention Measure Face Masks (1=yes, 0=no)</th>\n",
              "      <th>Prevention Measure Medical Corset (1=yes, 0=no)</th>\n",
              "    </tr>\n",
              "  </thead>\n",
              "  <tbody>\n",
              "    <tr>\n",
              "      <th>0</th>\n",
              "      <td>146.0</td>\n",
              "      <td>19.0</td>\n",
              "      <td>173.0</td>\n",
              "      <td>67.6</td>\n",
              "      <td>1.0</td>\n",
              "      <td>3.0</td>\n",
              "      <td>1.0</td>\n",
              "      <td>1.0</td>\n",
              "      <td>6.0</td>\n",
              "      <td>1.0</td>\n",
              "      <td>...</td>\n",
              "      <td>2.0</td>\n",
              "      <td>1.0</td>\n",
              "      <td>1.0</td>\n",
              "      <td>0.0</td>\n",
              "      <td>1.0</td>\n",
              "      <td>0.0</td>\n",
              "      <td>0.0</td>\n",
              "      <td>0.0</td>\n",
              "      <td>0.0</td>\n",
              "      <td>0.0</td>\n",
              "    </tr>\n",
              "    <tr>\n",
              "      <th>1</th>\n",
              "      <td>155.0</td>\n",
              "      <td>22.0</td>\n",
              "      <td>179.5</td>\n",
              "      <td>71.0</td>\n",
              "      <td>1.0</td>\n",
              "      <td>3.0</td>\n",
              "      <td>1.0</td>\n",
              "      <td>1.0</td>\n",
              "      <td>2.0</td>\n",
              "      <td>0.0</td>\n",
              "      <td>...</td>\n",
              "      <td>1.0</td>\n",
              "      <td>1.0</td>\n",
              "      <td>1.0</td>\n",
              "      <td>1.0</td>\n",
              "      <td>0.0</td>\n",
              "      <td>0.0</td>\n",
              "      <td>0.0</td>\n",
              "      <td>0.0</td>\n",
              "      <td>0.0</td>\n",
              "      <td>0.0</td>\n",
              "    </tr>\n",
              "  </tbody>\n",
              "</table>\n",
              "<p>2 rows × 41 columns</p>\n",
              "</div>\n",
              "    <div class=\"colab-df-buttons\">\n",
              "\n",
              "  <div class=\"colab-df-container\">\n",
              "    <button class=\"colab-df-convert\" onclick=\"convertToInteractive('df-1dd4ed55-b46d-4c7b-ab19-204bff2f6d56')\"\n",
              "            title=\"Convert this dataframe to an interactive table.\"\n",
              "            style=\"display:none;\">\n",
              "\n",
              "  <svg xmlns=\"http://www.w3.org/2000/svg\" height=\"24px\" viewBox=\"0 -960 960 960\">\n",
              "    <path d=\"M120-120v-720h720v720H120Zm60-500h600v-160H180v160Zm220 220h160v-160H400v160Zm0 220h160v-160H400v160ZM180-400h160v-160H180v160Zm440 0h160v-160H620v160ZM180-180h160v-160H180v160Zm440 0h160v-160H620v160Z\"/>\n",
              "  </svg>\n",
              "    </button>\n",
              "\n",
              "  <style>\n",
              "    .colab-df-container {\n",
              "      display:flex;\n",
              "      gap: 12px;\n",
              "    }\n",
              "\n",
              "    .colab-df-convert {\n",
              "      background-color: #E8F0FE;\n",
              "      border: none;\n",
              "      border-radius: 50%;\n",
              "      cursor: pointer;\n",
              "      display: none;\n",
              "      fill: #1967D2;\n",
              "      height: 32px;\n",
              "      padding: 0 0 0 0;\n",
              "      width: 32px;\n",
              "    }\n",
              "\n",
              "    .colab-df-convert:hover {\n",
              "      background-color: #E2EBFA;\n",
              "      box-shadow: 0px 1px 2px rgba(60, 64, 67, 0.3), 0px 1px 3px 1px rgba(60, 64, 67, 0.15);\n",
              "      fill: #174EA6;\n",
              "    }\n",
              "\n",
              "    .colab-df-buttons div {\n",
              "      margin-bottom: 4px;\n",
              "    }\n",
              "\n",
              "    [theme=dark] .colab-df-convert {\n",
              "      background-color: #3B4455;\n",
              "      fill: #D2E3FC;\n",
              "    }\n",
              "\n",
              "    [theme=dark] .colab-df-convert:hover {\n",
              "      background-color: #434B5C;\n",
              "      box-shadow: 0px 1px 3px 1px rgba(0, 0, 0, 0.15);\n",
              "      filter: drop-shadow(0px 1px 2px rgba(0, 0, 0, 0.3));\n",
              "      fill: #FFFFFF;\n",
              "    }\n",
              "  </style>\n",
              "\n",
              "    <script>\n",
              "      const buttonEl =\n",
              "        document.querySelector('#df-1dd4ed55-b46d-4c7b-ab19-204bff2f6d56 button.colab-df-convert');\n",
              "      buttonEl.style.display =\n",
              "        google.colab.kernel.accessAllowed ? 'block' : 'none';\n",
              "\n",
              "      async function convertToInteractive(key) {\n",
              "        const element = document.querySelector('#df-1dd4ed55-b46d-4c7b-ab19-204bff2f6d56');\n",
              "        const dataTable =\n",
              "          await google.colab.kernel.invokeFunction('convertToInteractive',\n",
              "                                                    [key], {});\n",
              "        if (!dataTable) return;\n",
              "\n",
              "        const docLinkHtml = 'Like what you see? Visit the ' +\n",
              "          '<a target=\"_blank\" href=https://colab.research.google.com/notebooks/data_table.ipynb>data table notebook</a>'\n",
              "          + ' to learn more about interactive tables.';\n",
              "        element.innerHTML = '';\n",
              "        dataTable['output_type'] = 'display_data';\n",
              "        await google.colab.output.renderOutput(dataTable, element);\n",
              "        const docLink = document.createElement('div');\n",
              "        docLink.innerHTML = docLinkHtml;\n",
              "        element.appendChild(docLink);\n",
              "      }\n",
              "    </script>\n",
              "  </div>\n",
              "\n",
              "\n",
              "<div id=\"df-e985e7fb-7bf7-4276-b045-f75376a4a3fe\">\n",
              "  <button class=\"colab-df-quickchart\" onclick=\"quickchart('df-e985e7fb-7bf7-4276-b045-f75376a4a3fe')\"\n",
              "            title=\"Suggest charts\"\n",
              "            style=\"display:none;\">\n",
              "\n",
              "<svg xmlns=\"http://www.w3.org/2000/svg\" height=\"24px\"viewBox=\"0 0 24 24\"\n",
              "     width=\"24px\">\n",
              "    <g>\n",
              "        <path d=\"M19 3H5c-1.1 0-2 .9-2 2v14c0 1.1.9 2 2 2h14c1.1 0 2-.9 2-2V5c0-1.1-.9-2-2-2zM9 17H7v-7h2v7zm4 0h-2V7h2v10zm4 0h-2v-4h2v4z\"/>\n",
              "    </g>\n",
              "</svg>\n",
              "  </button>\n",
              "\n",
              "<style>\n",
              "  .colab-df-quickchart {\n",
              "      --bg-color: #E8F0FE;\n",
              "      --fill-color: #1967D2;\n",
              "      --hover-bg-color: #E2EBFA;\n",
              "      --hover-fill-color: #174EA6;\n",
              "      --disabled-fill-color: #AAA;\n",
              "      --disabled-bg-color: #DDD;\n",
              "  }\n",
              "\n",
              "  [theme=dark] .colab-df-quickchart {\n",
              "      --bg-color: #3B4455;\n",
              "      --fill-color: #D2E3FC;\n",
              "      --hover-bg-color: #434B5C;\n",
              "      --hover-fill-color: #FFFFFF;\n",
              "      --disabled-bg-color: #3B4455;\n",
              "      --disabled-fill-color: #666;\n",
              "  }\n",
              "\n",
              "  .colab-df-quickchart {\n",
              "    background-color: var(--bg-color);\n",
              "    border: none;\n",
              "    border-radius: 50%;\n",
              "    cursor: pointer;\n",
              "    display: none;\n",
              "    fill: var(--fill-color);\n",
              "    height: 32px;\n",
              "    padding: 0;\n",
              "    width: 32px;\n",
              "  }\n",
              "\n",
              "  .colab-df-quickchart:hover {\n",
              "    background-color: var(--hover-bg-color);\n",
              "    box-shadow: 0 1px 2px rgba(60, 64, 67, 0.3), 0 1px 3px 1px rgba(60, 64, 67, 0.15);\n",
              "    fill: var(--button-hover-fill-color);\n",
              "  }\n",
              "\n",
              "  .colab-df-quickchart-complete:disabled,\n",
              "  .colab-df-quickchart-complete:disabled:hover {\n",
              "    background-color: var(--disabled-bg-color);\n",
              "    fill: var(--disabled-fill-color);\n",
              "    box-shadow: none;\n",
              "  }\n",
              "\n",
              "  .colab-df-spinner {\n",
              "    border: 2px solid var(--fill-color);\n",
              "    border-color: transparent;\n",
              "    border-bottom-color: var(--fill-color);\n",
              "    animation:\n",
              "      spin 1s steps(1) infinite;\n",
              "  }\n",
              "\n",
              "  @keyframes spin {\n",
              "    0% {\n",
              "      border-color: transparent;\n",
              "      border-bottom-color: var(--fill-color);\n",
              "      border-left-color: var(--fill-color);\n",
              "    }\n",
              "    20% {\n",
              "      border-color: transparent;\n",
              "      border-left-color: var(--fill-color);\n",
              "      border-top-color: var(--fill-color);\n",
              "    }\n",
              "    30% {\n",
              "      border-color: transparent;\n",
              "      border-left-color: var(--fill-color);\n",
              "      border-top-color: var(--fill-color);\n",
              "      border-right-color: var(--fill-color);\n",
              "    }\n",
              "    40% {\n",
              "      border-color: transparent;\n",
              "      border-right-color: var(--fill-color);\n",
              "      border-top-color: var(--fill-color);\n",
              "    }\n",
              "    60% {\n",
              "      border-color: transparent;\n",
              "      border-right-color: var(--fill-color);\n",
              "    }\n",
              "    80% {\n",
              "      border-color: transparent;\n",
              "      border-right-color: var(--fill-color);\n",
              "      border-bottom-color: var(--fill-color);\n",
              "    }\n",
              "    90% {\n",
              "      border-color: transparent;\n",
              "      border-bottom-color: var(--fill-color);\n",
              "    }\n",
              "  }\n",
              "</style>\n",
              "\n",
              "  <script>\n",
              "    async function quickchart(key) {\n",
              "      const quickchartButtonEl =\n",
              "        document.querySelector('#' + key + ' button');\n",
              "      quickchartButtonEl.disabled = true;  // To prevent multiple clicks.\n",
              "      quickchartButtonEl.classList.add('colab-df-spinner');\n",
              "      try {\n",
              "        const charts = await google.colab.kernel.invokeFunction(\n",
              "            'suggestCharts', [key], {});\n",
              "      } catch (error) {\n",
              "        console.error('Error during call to suggestCharts:', error);\n",
              "      }\n",
              "      quickchartButtonEl.classList.remove('colab-df-spinner');\n",
              "      quickchartButtonEl.classList.add('colab-df-quickchart-complete');\n",
              "    }\n",
              "    (() => {\n",
              "      let quickchartButtonEl =\n",
              "        document.querySelector('#df-e985e7fb-7bf7-4276-b045-f75376a4a3fe button');\n",
              "      quickchartButtonEl.style.display =\n",
              "        google.colab.kernel.accessAllowed ? 'block' : 'none';\n",
              "    })();\n",
              "  </script>\n",
              "</div>\n",
              "    </div>\n",
              "  </div>\n"
            ],
            "application/vnd.google.colaboratory.intrinsic+json": {
              "type": "dataframe",
              "variable_name": "data"
            }
          },
          "metadata": {},
          "execution_count": 251
        }
      ]
    },
    {
      "cell_type": "markdown",
      "source": [
        "## Writen Simple Regression"
      ],
      "metadata": {
        "id": "z73_2Fc0l9P2"
      }
    },
    {
      "cell_type": "code",
      "execution_count": 252,
      "metadata": {
        "colab": {
          "base_uri": "https://localhost:8080/"
        },
        "id": "Ah3dO-aHu0lk",
        "outputId": "edb0c187-d8c3-46ea-e716-c8ab2d572553"
      },
      "outputs": [
        {
          "output_type": "stream",
          "name": "stdout",
          "text": [
            "the regression equation is:\n",
            "\t\t\t Y= 37.902534968479436 + 1.7498150610716923 *X\n",
            "the regression equation  between Age and Mass is:\n",
            "\t\t\t Mass= 37.902534968479436 + 1.7498150610716923 *Age\n"
          ]
        }
      ],
      "source": [
        "X= data['Age']\n",
        "X\n",
        "Y= data['Mass']\n",
        "Y\n",
        "n=len(Y)\n",
        "n\n",
        "\n",
        "X_bar = np.mean(X)\n",
        "X_bar\n",
        "Y_bar = np.mean(Y)\n",
        "Y_bar\n",
        "n*X_bar*Y_bar\n",
        "\n",
        "numerator = np.sum(X  * Y )- n*X_bar*Y_bar\n",
        "denominator = np.sum(X**2)- n*X_bar**2\n",
        "\n",
        "beta_hat_1 = numerator / denominator\n",
        "beta_hat_0= Y_bar - beta_hat_1 * X_bar\n",
        "print(\"\"\"the regression equation is:\\n\\t\\t\\t\"\"\", \"Y=\",beta_hat_0, \"+\", beta_hat_1,\"*X\" )\n",
        "print(\"\"\"the regression equation  between Age and Mass is:\\n\\t\\t\\t\"\"\", \"Mass=\",beta_hat_0, \"+\", beta_hat_1,\"*Age\" )"
      ]
    },
    {
      "cell_type": "markdown",
      "source": [
        "## Packed Simple regression"
      ],
      "metadata": {
        "id": "ARyFdhw1mYz3"
      }
    },
    {
      "cell_type": "code",
      "source": [
        "df=pd.DataFrame(data)\n",
        "df.head(3)\n",
        "\n",
        "x = df[['Age']]\n",
        "y =df['Mass']\n",
        "reg_model = LinearRegression()\n",
        "reg_model.fit(x, y)\n",
        "\n",
        "beta_hat_1 = reg_model.coef_\n",
        "beta_hat1_0 = reg_model.intercept_\n",
        "\n",
        "print(\"\"\"the regression equation is:\\n\\t\\t\\t\\t\"\"\", \"Mass=\",beta_hat1_0, \"+\", beta_hat_1,\"*Age\" )\n"
      ],
      "metadata": {
        "colab": {
          "base_uri": "https://localhost:8080/"
        },
        "id": "j-NwZLonDuIp",
        "outputId": "c9cae242-a8b9-47df-bf16-fa7c9536fb8b"
      },
      "execution_count": 253,
      "outputs": [
        {
          "output_type": "stream",
          "name": "stdout",
          "text": [
            "the regression equation is:\n",
            "\t\t\t\t Mass= 37.90253496847913 + [1.74981506] *Age\n"
          ]
        }
      ]
    },
    {
      "cell_type": "markdown",
      "source": [
        "## Writen Simple Regression By inverse Matrix"
      ],
      "metadata": {
        "id": "CQxy7toEvNy2"
      }
    },
    {
      "cell_type": "code",
      "source": [
        "features = ['Fatigue', 'Previous Injuries', 'Number of Injuries','Ankle Injuries']\n",
        "data= data[features]\n",
        "X= data['Fatigue']\n",
        "#X1= data['Previous Injuries']\n",
        "Y= data['Number of Injuries']\n",
        "\n",
        "#X= X.reshape((len(X), 1))\n",
        "X = X.values.reshape((len(data), 1))\n",
        "X.shape\n",
        "\n",
        "X= np.hstack((np.ones((X.shape[0], 1)), X))\n",
        "X.shape\n",
        "\n",
        "B=inv(X.T.dot(X)).dot(X.T).dot(Y)\n",
        "print(B)\n",
        "\n",
        "print(\"\"\"the regression equation is:\\n\\t\\t\\t\"\"\", \"Y=\", B[0], \"+\", B[1], \"*X\")\n",
        "# پیش‌بینی Y بر اساس X\n",
        "yhat = X.dot(B)\n",
        "corr = pearsonr(yhat, y)\n",
        "print(\"\"\"the Pearson's correlation between two variables is:\\n\\t\\t\\t\"\"\", corr)"
      ],
      "metadata": {
        "colab": {
          "base_uri": "https://localhost:8080/"
        },
        "id": "--VFj77MKsOJ",
        "outputId": "e2654389-3b14-4d53-806e-605da0c1890c"
      },
      "execution_count": 254,
      "outputs": [
        {
          "output_type": "stream",
          "name": "stdout",
          "text": [
            "[1.59302326 0.82207108]\n",
            "the regression equation is:\n",
            "\t\t\t Y= 1.5930232558139539 + 0.8220710838086875 *X\n",
            "the Pearson's correlation between two variables is:\n",
            "\t\t\t PearsonRResult(statistic=0.14417702040118419, pvalue=0.0903924226501317)\n"
          ]
        }
      ]
    },
    {
      "cell_type": "markdown",
      "source": [
        "## Drawing Regression Plot"
      ],
      "metadata": {
        "id": "lv-xphfeuiAN"
      }
    },
    {
      "cell_type": "code",
      "source": [
        "# ترسیم نمودار پراکندگی و خط رگرسیون\n",
        "plt.scatter(data['Fatigue'], data['Number of Injuries'], color='blue', label='Data Points')\n",
        "plt.plot(data['Fatigue'], yhat, color='red', label='Regression Line')\n",
        "plt.xlabel('Fatigue')\n",
        "plt.ylabel('Number of Injuries')\n",
        "plt.legend()\n",
        "plt.show()"
      ],
      "metadata": {
        "id": "PMwcYTNSTQz7",
        "colab": {
          "base_uri": "https://localhost:8080/",
          "height": 449
        },
        "outputId": "ff2e5f0a-e7e2-4ccc-bceb-ad0c49f7980f"
      },
      "execution_count": 255,
      "outputs": [
        {
          "output_type": "display_data",
          "data": {
            "text/plain": [
              "<Figure size 640x480 with 1 Axes>"
            ],
            "image/png": "[encoded data removed]"
          },
          "metadata": {}
        }
      ]
    },
    {
      "cell_type": "markdown",
      "source": [
        "## Writen Multiple Regression By inverse Matrix"
      ],
      "metadata": {
        "id": "ohM1x9QBwEy0"
      }
    },
    {
      "cell_type": "code",
      "source": [
        "features = ['Fatigue', 'Previous Injuries', 'Number of Injuries','Ankle Injuries']\n",
        "data1= data[features]\n",
        "\n",
        "# تبدیل DataFrame به آرایه‌ی Numpy\n",
        "np_array = data1.values\n",
        "\n",
        "X, Y = np_array[:,0:2], np_array[:,2]\n",
        "X = np.hstack((np.ones((X.shape[0], 1)), X))\n",
        "X.shape\n",
        "\n",
        "B = inv(X.T.dot(X)).dot(X.T).dot(Y)\n",
        "print(B)\n",
        "\n",
        "print(\"\"\"the regression equation is:\\n\\t\\t\\t\"\"\", \"AnkleInjuries=\",B[0], \"+\", B[1],\"*Fatigue\",'+', B[2], \"*Previous Injuries\" )\n",
        "\n",
        "yhat = X.dot(B)\n",
        "# calculate the Pearson's correlation between two variables\n",
        "corr = pearsonr(yhat, Y)\n",
        "print(\"\"\"the Pearson's correlation between two variables is:\\n\\t\\t\\t\"\"\", corr)"
      ],
      "metadata": {
        "colab": {
          "base_uri": "https://localhost:8080/"
        },
        "id": "50rYsKUvw9bB",
        "outputId": "bc8627cd-db1f-4199-8a5a-f55a3851fae7"
      },
      "execution_count": 256,
      "outputs": [
        {
          "output_type": "stream",
          "name": "stdout",
          "text": [
            "[-0.09744518  0.53594851  2.13794538]\n",
            "the regression equation is:\n",
            "\t\t\t AnkleInjuries= -0.09744518402506185 + 0.5359485121378227 *Fatigue + 2.137945379796398 *Previous Injuries\n",
            "the Pearson's correlation between two variables is:\n",
            "\t\t\t PearsonRResult(statistic=0.5379503087432268, pvalue=8.538931940621852e-12)\n"
          ]
        }
      ]
    },
    {
      "cell_type": "markdown",
      "source": [
        "## Packed Multiple regression"
      ],
      "metadata": {
        "id": "x49zgYcMz8gO"
      }
    },
    {
      "cell_type": "code",
      "source": [
        "features = ['Fatigue', 'Previous Injuries', 'Number of Injuries','Ankle Injuries']\n",
        "data2= data[features]\n",
        "\n",
        "x = data2[['Fatigue', 'Previous Injuries']] #PREDICTOR\n",
        "y =data2['Ankle Injuries']# DEPENDENT\n",
        "\n",
        "reg_model = LinearRegression()\n",
        "reg_model.fit(x, y)\n",
        "\n",
        "beta_hat1 = reg_model.coef_\n",
        "alpha_hat1 = reg_model.intercept_\n",
        "\n",
        "print(\"\"\"\"the regression equation is:\\n\\t\\t\\t\"\"\", \"y=\",alpha_hat1, \"+\", beta_hat1[0],\"* x1 +\",beta_hat1[1],\"* x2\" )\n"
      ],
      "metadata": {
        "colab": {
          "base_uri": "https://localhost:8080/"
        },
        "id": "UBaoQ7D8_Bve",
        "outputId": "05c42d50-5fbc-4a2e-baef-50c0ae8f62d3"
      },
      "execution_count": 257,
      "outputs": [
        {
          "output_type": "stream",
          "name": "stdout",
          "text": [
            "\"the regression equation is:\n",
            "\t\t\t y= 0.10385669537979653 + -0.0712118245888801 * x1 + 0.5157106499608456 * x2\n"
          ]
        }
      ]
    },
    {
      "cell_type": "markdown",
      "source": [
        "## Predicting New Data"
      ],
      "metadata": {
        "id": "vddf5ewi3VSb"
      }
    },
    {
      "cell_type": "code",
      "source": [
        "data_new = array([\n",
        "\t[0.05, 6, 0.02],\n",
        "\t[0.11, 4,  0.5],\n",
        "  [0.45, 8,  0.05]])\n",
        "\n",
        "x_new=data_new[:,0:2]\n",
        "y_new=data_new[:,2]\n",
        "\n",
        "y_hat=reg_model.predict(x_new)\n",
        "ss_test=np.sum((y_new-y_hat)**2)\n",
        "print(\"\"\"The SS Error between two variables is: \"\"\", ss_test)\n",
        "\n",
        "corr = pearsonr(y_hat, y_new)\n",
        "print(\"\"\"The Pearson's correlation between two variables is: \"\"\", corr)"
      ],
      "metadata": {
        "colab": {
          "base_uri": "https://localhost:8080/"
        },
        "id": "A1g5DsZY_1O6",
        "outputId": "60a03fcf-b255-425f-a6ac-de064f11e2ab"
      },
      "execution_count": 258,
      "outputs": [
        {
          "output_type": "stream",
          "name": "stdout",
          "text": [
            "The SS Error between two variables is:  30.03139543758376\n",
            "The Pearson's correlation between two variables is:  PearsonRResult(statistic=-0.841827281593178, pvalue=0.3629601994575736)\n"
          ]
        },
        {
          "output_type": "stream",
          "name": "stderr",
          "text": [
            "/usr/local/lib/python3.10/dist-packages/sklearn/utils/validation.py:2739: UserWarning: X does not have valid feature names, but LinearRegression was fitted with feature names\n",
            "  warnings.warn(\n"
          ]
        }
      ]
    }
  ]
}